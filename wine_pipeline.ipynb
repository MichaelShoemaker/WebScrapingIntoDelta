{
 "cells": [
  {
   "cell_type": "code",
   "execution_count": null,
   "id": "applied-robertson",
   "metadata": {},
   "outputs": [],
   "source": [
    "import requests\n",
    "import pandas as pd\n",
    "from pyspark.sql import SparkSession\n",
    "from bs4 import BeautifulSoup, NavigableString, Tag\n",
    "\n",
    "URL = \"https://thepurplepigchicago.com/drink\"\n",
    "page = requests.get(URL)\n",
    "\n",
    "soup = BeautifulSoup(page.content, \"html.parser\")\n",
    "menu = soup.find_all(\"div\", class_=\"menu-section\")"
   ]
  },
  {
   "cell_type": "code",
   "execution_count": null,
   "id": "liable-bernard",
   "metadata": {},
   "outputs": [],
   "source": [
    "def get_wines_df():\n",
    "    sections = []\n",
    "    items = []\n",
    "    staging = []\n",
    "    def clean_extra(extra):\n",
    "        if extra == None:\n",
    "            return ''\n",
    "        else:\n",
    "            return ' '.join(x.strip() for x in extra.replace('\\n','').split('/'))\n",
    "\n",
    "    for i in menu:\n",
    "        sections.append((i.find('div',{'class':'menu-section-title'}).text, \\\n",
    "                             zip([x.text.split('|')[1] if '|' in x.text else x.text for x in i.find_all('div',{'class':'menu-item-title'})], \\\n",
    "                            [x.text.replace('|','') for x in i.find_all(\"div\", class_=\"menu-item-description\") if x != None], \\\n",
    "                            [clean_extra(x.text) for x in i.find_all(\"div\", class_=\"menu-item-price-bottom\")])))\n",
    "\n",
    "\n",
    "\n",
    "    for i in sections:\n",
    "        category = i[0]\n",
    "        for items in i[1]:\n",
    "            staging.append([\"PurplePig\"]+[category] + [x for x in items])\n",
    "\n",
    "    dict_holder = []\n",
    "    key_list = ['origin','section', 'name', 'description','extra']\n",
    "\n",
    "    for i in staging:\n",
    "        dict_from_list = dict(zip(key_list, i))\n",
    "        dict_holder.append(dict_from_list)\n",
    "    return(pd.DataFrame(dict_holder))\n",
    "    "
   ]
  },
  {
   "cell_type": "code",
   "execution_count": null,
   "id": "peaceful-milton",
   "metadata": {},
   "outputs": [],
   "source": [
    "df.to_parquet('Wines.parquet')"
   ]
  },
  {
   "cell_type": "code",
   "execution_count": null,
   "id": "forced-sugar",
   "metadata": {},
   "outputs": [],
   "source": [
    "spark = SparkSession.builder \\\n",
    "    .master(\"local[*]\") \\\n",
    "    .appName('test') \\\n",
    "    .config(\"spark.jars.packages\", \"io.delta:delta-core_2.12:0.7.0\") \\\n",
    "    .config(\"spark.sql.extensions\", \"io.delta.sql.DeltaSparkSessionExtension\") \\\n",
    "    .config(\"spark.sql.catalog.spark_catalog\", \"org.apache.spark.sql.delta.catalog.DeltaCatalog\") \\\n",
    "    .config('spark.ui.port', '4050') \\\n",
    "    .getOrCreate()"
   ]
  },
  {
   "cell_type": "code",
   "execution_count": null,
   "id": "returning-board",
   "metadata": {},
   "outputs": [],
   "source": [
    "df = spark.read.parquet('Wines.parquet')"
   ]
  },
  {
   "cell_type": "code",
   "execution_count": null,
   "id": "editorial-resort",
   "metadata": {},
   "outputs": [],
   "source": [
    "df.write.format('delta').save('tmp/delta/')"
   ]
  }
 ],
 "metadata": {
  "kernelspec": {
   "display_name": "Python 3",
   "language": "python",
   "name": "python3"
  },
  "language_info": {
   "codemirror_mode": {
    "name": "ipython",
    "version": 3
   },
   "file_extension": ".py",
   "mimetype": "text/x-python",
   "name": "python",
   "nbconvert_exporter": "python",
   "pygments_lexer": "ipython3",
   "version": "3.8.10"
  }
 },
 "nbformat": 4,
 "nbformat_minor": 5
}
