{
 "cells": [
  {
   "cell_type": "code",
   "execution_count": 1,
   "id": "applied-robertson",
   "metadata": {},
   "outputs": [
    {
     "name": "stderr",
     "output_type": "stream",
     "text": [
      "/usr/lib/python3/dist-packages/requests/__init__.py:89: RequestsDependencyWarning: urllib3 (1.26.9) or chardet (3.0.4) doesn't match a supported version!\n",
      "  warnings.warn(\"urllib3 ({}) or chardet ({}) doesn't match a supported \"\n"
     ]
    }
   ],
   "source": [
    "import requests\n",
    "import pandas as pd\n",
    "from pyspark.sql import SparkSession\n",
    "from bs4 import BeautifulSoup, NavigableString, Tag\n",
    "\n",
    "URL = \"https://thepurplepigchicago.com/drink\"\n",
    "page = requests.get(URL)\n",
    "\n",
    "soup = BeautifulSoup(page.content, \"html.parser\")\n",
    "menu = soup.find_all(\"div\", class_=\"menu-section\")"
   ]
  },
  {
   "cell_type": "code",
   "execution_count": 20,
   "id": "liable-bernard",
   "metadata": {},
   "outputs": [],
   "source": [
    "def get_wines_df():\n",
    "    sections = []\n",
    "    items = []\n",
    "    staging = []\n",
    "    def clean_extra(extra):\n",
    "        if extra == None:\n",
    "            return ''\n",
    "        else:\n",
    "            return ' '.join(x.strip() for x in extra.replace('\\n','').split('/'))\n",
    "\n",
    "    for i in menu:\n",
    "        sections.append((i.find('div',{'class':'menu-section-title'}).text, \\\n",
    "                             zip([x.text.split('|')[1] if '|' in x.text else x.text for x in i.find_all('div',{'class':'menu-item-title'})], \\\n",
    "                            [x.text.replace('|','') for x in i.find_all(\"div\", class_=\"menu-item-description\") if x != None], \\\n",
    "                            [clean_extra(x.text) for x in i.find_all(\"div\", class_=\"menu-item-price-bottom\")])))\n",
    "\n",
    "\n",
    "\n",
    "    for i in sections:\n",
    "        category = i[0]\n",
    "        for items in i[1]:\n",
    "            staging.append([\"PurplePig\"]+[category] + [x for x in items])\n",
    "\n",
    "    dict_holder = []\n",
    "    key_list = ['origin','section', 'name', 'description','extra']\n",
    "\n",
    "    for i in staging:\n",
    "        dict_from_list = dict(zip(key_list, i))\n",
    "        dict_holder.append(dict_from_list)\n",
    "    return(pd.DataFrame(dict_holder).apply(lambda x: x.str.strip() if x.dtype == \"object\" else x))\n",
    "    "
   ]
  },
  {
   "cell_type": "code",
   "execution_count": 21,
   "id": "58dff4a5",
   "metadata": {},
   "outputs": [],
   "source": [
    "df = get_wines_df()"
   ]
  },
  {
   "cell_type": "code",
   "execution_count": 5,
   "id": "peaceful-milton",
   "metadata": {},
   "outputs": [],
   "source": [
    "df.to_parquet('Wines.parquet')"
   ]
  },
  {
   "cell_type": "code",
   "execution_count": 6,
   "id": "forced-sugar",
   "metadata": {},
   "outputs": [],
   "source": [
    "spark = SparkSession.builder \\\n",
    "    .master(\"local[*]\") \\\n",
    "    .appName('test') \\\n",
    "    .config(\"spark.jars.packages\", \"io.delta:delta-core_2.12:0.7.0\") \\\n",
    "    .config(\"spark.sql.extensions\", \"io.delta.sql.DeltaSparkSessionExtension\") \\\n",
    "    .config(\"spark.sql.catalog.spark_catalog\", \"org.apache.spark.sql.delta.catalog.DeltaCatalog\") \\\n",
    "    .config('spark.ui.port', '4050') \\\n",
    "    .getOrCreate()"
   ]
  },
  {
   "cell_type": "code",
   "execution_count": 7,
   "id": "returning-board",
   "metadata": {},
   "outputs": [],
   "source": [
    "df = spark.read.parquet('Wines.parquet')"
   ]
  },
  {
   "cell_type": "code",
   "execution_count": 8,
   "id": "editorial-resort",
   "metadata": {},
   "outputs": [],
   "source": [
    "df.write.format('delta').save('tmp/delta/')"
   ]
  },
  {
   "cell_type": "code",
   "execution_count": 10,
   "id": "2c07077e",
   "metadata": {},
   "outputs": [
    {
     "data": {
      "text/plain": [
       "DataFrame[]"
      ]
     },
     "execution_count": 10,
     "metadata": {},
     "output_type": "execute_result"
    }
   ],
   "source": [
    "spark.sql(\"CREATE TABLE wines USING DELTA LOCATION './tmp/delta'\")"
   ]
  },
  {
   "cell_type": "code",
   "execution_count": 27,
   "id": "d671ffe5",
   "metadata": {},
   "outputs": [
    {
     "name": "stdout",
     "output_type": "stream",
     "text": [
      "+---------+--------------------+----------------+--------------------+-----------+\n",
      "|   origin|             section|            name|         description|      extra|\n",
      "+---------+--------------------+----------------+--------------------+-----------+\n",
      "|PurplePig|SOMMELIER WINE SP...| SAUVIGNON BLANC|Patrick Noël, San...|$19 $45 $86|\n",
      "|PurplePig| WHITES BY THE GLASS| SAUVIGNON BLANC|Chateau La Rame, ...|$15 $36 $68|\n",
      "+---------+--------------------+----------------+--------------------+-----------+\n",
      "\n"
     ]
    }
   ],
   "source": [
    "spark.sql(\"SELECT * FROM wines WHERE name like '%BLANC%' LIMIT 10;\").show()"
   ]
  },
  {
   "cell_type": "code",
   "execution_count": 28,
   "id": "b467c587",
   "metadata": {},
   "outputs": [
    {
     "data": {
      "text/plain": [
       "DataFrame[]"
      ]
     },
     "execution_count": 28,
     "metadata": {},
     "output_type": "execute_result"
    }
   ],
   "source": [
    "OUTPUT_DELTA_PATH = './tmp/delta/'\n",
    "\n",
    "spark.sql('CREATE DATABASE IF NOT EXISTS WINES')\n",
    "\n",
    "spark.sql('''\n",
    "    CREATE TABLE IF NOT EXISTS WINES.PURPLE_PIG(\n",
    "        origin string\n",
    "        , section string\n",
    "        , name string\n",
    "        , description string\n",
    "        , extra string\n",
    "    ) USING DELTA\n",
    "    LOCATION \"{0}\"\n",
    "    '''.format(OUTPUT_DELTA_PATH)\n",
    ")"
   ]
  },
  {
   "cell_type": "code",
   "execution_count": 29,
   "id": "7aa78c62",
   "metadata": {},
   "outputs": [],
   "source": [
    "load_file = spark.read.parquet('Wines.parquet')"
   ]
  },
  {
   "cell_type": "code",
   "execution_count": 35,
   "id": "f39d4b19",
   "metadata": {},
   "outputs": [],
   "source": [
    "load_file.createOrReplaceTempView('wine_load')"
   ]
  },
  {
   "cell_type": "code",
   "execution_count": 34,
   "id": "aad93858",
   "metadata": {},
   "outputs": [
    {
     "name": "stdout",
     "output_type": "stream",
     "text": [
      "+--------+\n",
      "|count(1)|\n",
      "+--------+\n",
      "|     544|\n",
      "+--------+\n",
      "\n"
     ]
    }
   ],
   "source": [
    "spark.sql(\"\"\"SELECT count(1)\n",
    "FROM WINES.PURPLE_PIG\"\"\").show()"
   ]
  },
  {
   "cell_type": "code",
   "execution_count": 43,
   "id": "df4d7026",
   "metadata": {},
   "outputs": [
    {
     "name": "stdout",
     "output_type": "stream",
     "text": [
      "+----------------------------------------+\n",
      "|hash(origin, section, name, description)|\n",
      "+----------------------------------------+\n",
      "|                              2061198233|\n",
      "|                              1527710402|\n",
      "|                              -632903228|\n",
      "|                              1261612108|\n",
      "|                                 2099280|\n",
      "|                             -2124324733|\n",
      "|                             -1568785439|\n",
      "|                             -1899088557|\n",
      "|                             -1618643588|\n",
      "|                             -1993399701|\n",
      "|                              -515037650|\n",
      "|                               -21673382|\n",
      "|                             -1172576607|\n",
      "|                               128985245|\n",
      "|                             -1285102648|\n",
      "|                              1795557171|\n",
      "|                              1636546046|\n",
      "|                               643601468|\n",
      "|                             -1081905292|\n",
      "|                              -444497963|\n",
      "+----------------------------------------+\n",
      "only showing top 20 rows\n",
      "\n"
     ]
    }
   ],
   "source": [
    "spark.sql(\"\"\"SELECT hash(origin,section, name, description)\n",
    "FROM wine_load\"\"\").show()"
   ]
  },
  {
   "cell_type": "code",
   "execution_count": 44,
   "id": "c984b3c9",
   "metadata": {},
   "outputs": [
    {
     "data": {
      "text/plain": [
       "DataFrame[]"
      ]
     },
     "execution_count": 44,
     "metadata": {},
     "output_type": "execute_result"
    }
   ],
   "source": [
    "spark.sql(\"\"\"MERGE INTO WINES.PURPLE_PIG\n",
    "USING wine_load\n",
    "   ON  hash(WINES.PURPLE_PIG.origin,WINES.PURPLE_PIG.section, WINES.PURPLE_PIG.name, WINES.PURPLE_PIG.description) = \\\n",
    "    hash(wine_load.origin,wine_load.section, wine_load.name, wine_load.description)\n",
    " WHEN NOT MATCHED THEN\n",
    " \t  INSERT (origin, section, name, description) VALUES (origin, section, name, description)\n",
    "\"\"\")"
   ]
  },
  {
   "cell_type": "code",
   "execution_count": null,
   "id": "98aa020b",
   "metadata": {},
   "outputs": [],
   "source": []
  }
 ],
 "metadata": {
  "interpreter": {
   "hash": "31f2aee4e71d21fbe5cf8b01ff0e069b9275f58929596ceb00d14d90e3e16cd6"
  },
  "kernelspec": {
   "display_name": "Python 3.8.10 64-bit",
   "language": "python",
   "name": "python3"
  },
  "language_info": {
   "codemirror_mode": {
    "name": "ipython",
    "version": 3
   },
   "file_extension": ".py",
   "mimetype": "text/x-python",
   "name": "python",
   "nbconvert_exporter": "python",
   "pygments_lexer": "ipython3",
   "version": "3.8.10"
  }
 },
 "nbformat": 4,
 "nbformat_minor": 5
}
