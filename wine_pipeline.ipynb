{
 "cells": [
  {
   "cell_type": "code",
   "execution_count": 1,
   "id": "applied-robertson",
   "metadata": {},
   "outputs": [
    {
     "name": "stderr",
     "output_type": "stream",
     "text": [
      "/usr/lib/python3/dist-packages/requests/__init__.py:89: RequestsDependencyWarning: urllib3 (1.26.9) or chardet (3.0.4) doesn't match a supported version!\n",
      "  warnings.warn(\"urllib3 ({}) or chardet ({}) doesn't match a supported \"\n"
     ]
    }
   ],
   "source": [
    "from datetime import date\n",
    "import requests\n",
    "import pandas as pd\n",
    "from pyspark.sql import SparkSession\n",
    "from bs4 import BeautifulSoup, NavigableString, Tag\n",
    "\n",
    "URL = \"https://thepurplepigchicago.com/drink\"\n",
    "page = requests.get(URL)\n",
    "\n",
    "soup = BeautifulSoup(page.content, \"html.parser\")\n",
    "menu = soup.find_all(\"div\", class_=\"menu-section\")"
   ]
  },
  {
   "cell_type": "code",
   "execution_count": 76,
   "id": "liable-bernard",
   "metadata": {},
   "outputs": [],
   "source": [
    "def get_wines_df():\n",
    "    sections = []\n",
    "    items = []\n",
    "    staging = []\n",
    "    def clean_extra(extra):\n",
    "        if extra == None:\n",
    "            return ''\n",
    "        else:\n",
    "            return ' '.join(x.strip() for x in extra.replace('\\n','').split('/'))\n",
    "\n",
    "    for i in menu:\n",
    "        sections.append((i.find('div',{'class':'menu-section-title'}).text, \\\n",
    "                             zip([x.text.split('|')[1] if '|' in x.text else x.text for x in i.find_all('div',{'class':'menu-item-title'})], \\\n",
    "                            [x.text.replace('|','') for x in i.find_all(\"div\", class_=\"menu-item-description\") if x != None], \\\n",
    "                            [clean_extra(x.text) for x in i.find_all(\"div\", class_=\"menu-item-price-bottom\")])))\n",
    "\n",
    "\n",
    "\n",
    "    for i in sections:\n",
    "        category = i[0]\n",
    "        for items in i[1]:\n",
    "            staging.append([\"PurplePig\"]+[category] + [x for x in items]+[date.today().strftime(\"%m/%d/%Y\")])\n",
    "\n",
    "    dict_holder = []\n",
    "    key_list = ['origin','section', 'name', 'description','extra','insert_date']\n",
    "\n",
    "    for i in staging:\n",
    "        dict_from_list = dict(zip(key_list, i))\n",
    "        dict_holder.append(dict_from_list)\n",
    "    return(pd.DataFrame(dict_holder).apply(lambda x: x.str.strip() if x.dtype == \"object\" else x))\n",
    "    "
   ]
  },
  {
   "cell_type": "code",
   "execution_count": 78,
   "id": "58dff4a5",
   "metadata": {},
   "outputs": [],
   "source": [
    "df = get_wines_df()"
   ]
  },
  {
   "cell_type": "code",
   "execution_count": 79,
   "id": "824f7346",
   "metadata": {},
   "outputs": [
    {
     "data": {
      "text/html": [
       "<div>\n",
       "<style scoped>\n",
       "    .dataframe tbody tr th:only-of-type {\n",
       "        vertical-align: middle;\n",
       "    }\n",
       "\n",
       "    .dataframe tbody tr th {\n",
       "        vertical-align: top;\n",
       "    }\n",
       "\n",
       "    .dataframe thead th {\n",
       "        text-align: right;\n",
       "    }\n",
       "</style>\n",
       "<table border=\"1\" class=\"dataframe\">\n",
       "  <thead>\n",
       "    <tr style=\"text-align: right;\">\n",
       "      <th></th>\n",
       "      <th>origin</th>\n",
       "      <th>section</th>\n",
       "      <th>name</th>\n",
       "      <th>description</th>\n",
       "      <th>extra</th>\n",
       "      <th>insert_date</th>\n",
       "    </tr>\n",
       "  </thead>\n",
       "  <tbody>\n",
       "    <tr>\n",
       "      <th>0</th>\n",
       "      <td>PurplePig</td>\n",
       "      <td>SOMMELIER WINE SPECIAL</td>\n",
       "      <td>SAUVIGNON BLANC</td>\n",
       "      <td>Patrick Noël, Sancerre Blanc  2020</td>\n",
       "      <td>$19 $45 $86</td>\n",
       "      <td>06/10/2022</td>\n",
       "    </tr>\n",
       "    <tr>\n",
       "      <th>1</th>\n",
       "      <td>PurplePig</td>\n",
       "      <td>WHISKEY OF THE MONTH</td>\n",
       "      <td>NELSON'S \"GREEN BRIER\" TENNESSEE WHISKEY</td>\n",
       "      <td>14</td>\n",
       "      <td>Nose: Full and warm showing caramel, vanilla, ...</td>\n",
       "      <td>06/10/2022</td>\n",
       "    </tr>\n",
       "    <tr>\n",
       "      <th>2</th>\n",
       "      <td>PurplePig</td>\n",
       "      <td>SPARKLING BY THE GLASS</td>\n",
       "      <td>CHAMPAGNE (CHARDONNAY + PINOT NOIR)</td>\n",
       "      <td>Drappier, Carte d'Or Brut, Champagne France  NV</td>\n",
       "      <td>$22 $53 $101</td>\n",
       "      <td>06/10/2022</td>\n",
       "    </tr>\n",
       "    <tr>\n",
       "      <th>3</th>\n",
       "      <td>PurplePig</td>\n",
       "      <td>SPARKLING BY THE GLASS</td>\n",
       "      <td>LAMBRUSCO</td>\n",
       "      <td>Carra di Casatico, La Luna Secco, Emilia-Romag...</td>\n",
       "      <td>$13 $32 $61</td>\n",
       "      <td>06/10/2022</td>\n",
       "    </tr>\n",
       "    <tr>\n",
       "      <th>4</th>\n",
       "      <td>PurplePig</td>\n",
       "      <td>SPARKLING BY THE GLASS</td>\n",
       "      <td>XINOMAVRO</td>\n",
       "      <td>Kir-Yianni  Akakies  Amyndeon, Greece  2020</td>\n",
       "      <td>$16 $39 $74</td>\n",
       "      <td>06/10/2022</td>\n",
       "    </tr>\n",
       "  </tbody>\n",
       "</table>\n",
       "</div>"
      ],
      "text/plain": [
       "      origin                 section  \\\n",
       "0  PurplePig  SOMMELIER WINE SPECIAL   \n",
       "1  PurplePig    WHISKEY OF THE MONTH   \n",
       "2  PurplePig  SPARKLING BY THE GLASS   \n",
       "3  PurplePig  SPARKLING BY THE GLASS   \n",
       "4  PurplePig  SPARKLING BY THE GLASS   \n",
       "\n",
       "                                       name  \\\n",
       "0                           SAUVIGNON BLANC   \n",
       "1  NELSON'S \"GREEN BRIER\" TENNESSEE WHISKEY   \n",
       "2       CHAMPAGNE (CHARDONNAY + PINOT NOIR)   \n",
       "3                                 LAMBRUSCO   \n",
       "4                                 XINOMAVRO   \n",
       "\n",
       "                                         description  \\\n",
       "0                 Patrick Noël, Sancerre Blanc  2020   \n",
       "1                                                 14   \n",
       "2    Drappier, Carte d'Or Brut, Champagne France  NV   \n",
       "3  Carra di Casatico, La Luna Secco, Emilia-Romag...   \n",
       "4        Kir-Yianni  Akakies  Amyndeon, Greece  2020   \n",
       "\n",
       "                                               extra insert_date  \n",
       "0                                        $19 $45 $86  06/10/2022  \n",
       "1  Nose: Full and warm showing caramel, vanilla, ...  06/10/2022  \n",
       "2                                       $22 $53 $101  06/10/2022  \n",
       "3                                        $13 $32 $61  06/10/2022  \n",
       "4                                        $16 $39 $74  06/10/2022  "
      ]
     },
     "execution_count": 79,
     "metadata": {},
     "output_type": "execute_result"
    }
   ],
   "source": [
    "df.head()"
   ]
  },
  {
   "cell_type": "code",
   "execution_count": 80,
   "id": "peaceful-milton",
   "metadata": {},
   "outputs": [],
   "source": [
    "df.to_parquet('Wines.parquet')"
   ]
  },
  {
   "cell_type": "code",
   "execution_count": 82,
   "id": "forced-sugar",
   "metadata": {},
   "outputs": [],
   "source": [
    "spark = SparkSession.builder \\\n",
    "    .master(\"local[*]\") \\\n",
    "    .appName('test') \\\n",
    "    .config(\"spark.jars.packages\", \"io.delta:delta-core_2.12:0.7.0\") \\\n",
    "    .config(\"spark.sql.extensions\", \"io.delta.sql.DeltaSparkSessionExtension\") \\\n",
    "    .config(\"spark.sql.catalog.spark_catalog\", \"org.apache.spark.sql.delta.catalog.DeltaCatalog\") \\\n",
    "    .config('spark.ui.port', '4050') \\\n",
    "    .getOrCreate()"
   ]
  },
  {
   "cell_type": "code",
   "execution_count": 83,
   "id": "returning-board",
   "metadata": {},
   "outputs": [],
   "source": [
    "df = spark.read.parquet('Wines.parquet')"
   ]
  },
  {
   "cell_type": "code",
   "execution_count": 84,
   "id": "editorial-resort",
   "metadata": {},
   "outputs": [
    {
     "ename": "AnalysisException",
     "evalue": "file:/home/gary/WebScrapingIntoDelta/tmp/delta already exists.;",
     "output_type": "error",
     "traceback": [
      "\u001b[0;31m---------------------------------------------------------------------------\u001b[0m",
      "\u001b[0;31mAnalysisException\u001b[0m                         Traceback (most recent call last)",
      "\u001b[0;32m<ipython-input-84-2d1ee4385507>\u001b[0m in \u001b[0;36m<module>\u001b[0;34m\u001b[0m\n\u001b[0;32m----> 1\u001b[0;31m \u001b[0mdf\u001b[0m\u001b[0;34m.\u001b[0m\u001b[0mwrite\u001b[0m\u001b[0;34m.\u001b[0m\u001b[0mformat\u001b[0m\u001b[0;34m(\u001b[0m\u001b[0;34m'delta'\u001b[0m\u001b[0;34m)\u001b[0m\u001b[0;34m.\u001b[0m\u001b[0msave\u001b[0m\u001b[0;34m(\u001b[0m\u001b[0;34m'tmp/delta/'\u001b[0m\u001b[0;34m)\u001b[0m\u001b[0;34m\u001b[0m\u001b[0;34m\u001b[0m\u001b[0m\n\u001b[0m",
      "\u001b[0;32m~/.local/lib/python3.8/site-packages/pyspark/sql/readwriter.py\u001b[0m in \u001b[0;36msave\u001b[0;34m(self, path, format, mode, partitionBy, **options)\u001b[0m\n\u001b[1;32m    825\u001b[0m             \u001b[0mself\u001b[0m\u001b[0;34m.\u001b[0m\u001b[0m_jwrite\u001b[0m\u001b[0;34m.\u001b[0m\u001b[0msave\u001b[0m\u001b[0;34m(\u001b[0m\u001b[0;34m)\u001b[0m\u001b[0;34m\u001b[0m\u001b[0;34m\u001b[0m\u001b[0m\n\u001b[1;32m    826\u001b[0m         \u001b[0;32melse\u001b[0m\u001b[0;34m:\u001b[0m\u001b[0;34m\u001b[0m\u001b[0;34m\u001b[0m\u001b[0m\n\u001b[0;32m--> 827\u001b[0;31m             \u001b[0mself\u001b[0m\u001b[0;34m.\u001b[0m\u001b[0m_jwrite\u001b[0m\u001b[0;34m.\u001b[0m\u001b[0msave\u001b[0m\u001b[0;34m(\u001b[0m\u001b[0mpath\u001b[0m\u001b[0;34m)\u001b[0m\u001b[0;34m\u001b[0m\u001b[0;34m\u001b[0m\u001b[0m\n\u001b[0m\u001b[1;32m    828\u001b[0m \u001b[0;34m\u001b[0m\u001b[0m\n\u001b[1;32m    829\u001b[0m     \u001b[0;34m@\u001b[0m\u001b[0msince\u001b[0m\u001b[0;34m(\u001b[0m\u001b[0;36m1.4\u001b[0m\u001b[0;34m)\u001b[0m\u001b[0;34m\u001b[0m\u001b[0;34m\u001b[0m\u001b[0m\n",
      "\u001b[0;32m~/.local/lib/python3.8/site-packages/py4j/java_gateway.py\u001b[0m in \u001b[0;36m__call__\u001b[0;34m(self, *args)\u001b[0m\n\u001b[1;32m   1302\u001b[0m \u001b[0;34m\u001b[0m\u001b[0m\n\u001b[1;32m   1303\u001b[0m         \u001b[0manswer\u001b[0m \u001b[0;34m=\u001b[0m \u001b[0mself\u001b[0m\u001b[0;34m.\u001b[0m\u001b[0mgateway_client\u001b[0m\u001b[0;34m.\u001b[0m\u001b[0msend_command\u001b[0m\u001b[0;34m(\u001b[0m\u001b[0mcommand\u001b[0m\u001b[0;34m)\u001b[0m\u001b[0;34m\u001b[0m\u001b[0;34m\u001b[0m\u001b[0m\n\u001b[0;32m-> 1304\u001b[0;31m         return_value = get_return_value(\n\u001b[0m\u001b[1;32m   1305\u001b[0m             answer, self.gateway_client, self.target_id, self.name)\n\u001b[1;32m   1306\u001b[0m \u001b[0;34m\u001b[0m\u001b[0m\n",
      "\u001b[0;32m~/.local/lib/python3.8/site-packages/pyspark/sql/utils.py\u001b[0m in \u001b[0;36mdeco\u001b[0;34m(*a, **kw)\u001b[0m\n\u001b[1;32m    132\u001b[0m                 \u001b[0;31m# Hide where the exception came from that shows a non-Pythonic\u001b[0m\u001b[0;34m\u001b[0m\u001b[0;34m\u001b[0m\u001b[0;34m\u001b[0m\u001b[0m\n\u001b[1;32m    133\u001b[0m                 \u001b[0;31m# JVM exception message.\u001b[0m\u001b[0;34m\u001b[0m\u001b[0;34m\u001b[0m\u001b[0;34m\u001b[0m\u001b[0m\n\u001b[0;32m--> 134\u001b[0;31m                 \u001b[0mraise_from\u001b[0m\u001b[0;34m(\u001b[0m\u001b[0mconverted\u001b[0m\u001b[0;34m)\u001b[0m\u001b[0;34m\u001b[0m\u001b[0;34m\u001b[0m\u001b[0m\n\u001b[0m\u001b[1;32m    135\u001b[0m             \u001b[0;32melse\u001b[0m\u001b[0;34m:\u001b[0m\u001b[0;34m\u001b[0m\u001b[0;34m\u001b[0m\u001b[0m\n\u001b[1;32m    136\u001b[0m                 \u001b[0;32mraise\u001b[0m\u001b[0;34m\u001b[0m\u001b[0;34m\u001b[0m\u001b[0m\n",
      "\u001b[0;32m~/.local/lib/python3.8/site-packages/pyspark/sql/utils.py\u001b[0m in \u001b[0;36mraise_from\u001b[0;34m(e)\u001b[0m\n",
      "\u001b[0;31mAnalysisException\u001b[0m: file:/home/gary/WebScrapingIntoDelta/tmp/delta already exists.;"
     ]
    }
   ],
   "source": [
    "df.write.format('delta').save('tmp/delta/')"
   ]
  },
  {
   "cell_type": "code",
   "execution_count": 10,
   "id": "2c07077e",
   "metadata": {},
   "outputs": [
    {
     "data": {
      "text/plain": [
       "DataFrame[]"
      ]
     },
     "execution_count": 10,
     "metadata": {},
     "output_type": "execute_result"
    }
   ],
   "source": [
    "spark.sql(\"CREATE TABLE wines USING DELTA LOCATION './tmp/delta'\")"
   ]
  },
  {
   "cell_type": "code",
   "execution_count": 27,
   "id": "d671ffe5",
   "metadata": {},
   "outputs": [
    {
     "name": "stdout",
     "output_type": "stream",
     "text": [
      "+---------+--------------------+----------------+--------------------+-----------+\n",
      "|   origin|             section|            name|         description|      extra|\n",
      "+---------+--------------------+----------------+--------------------+-----------+\n",
      "|PurplePig|SOMMELIER WINE SP...| SAUVIGNON BLANC|Patrick Noël, San...|$19 $45 $86|\n",
      "|PurplePig| WHITES BY THE GLASS| SAUVIGNON BLANC|Chateau La Rame, ...|$15 $36 $68|\n",
      "+---------+--------------------+----------------+--------------------+-----------+\n",
      "\n"
     ]
    }
   ],
   "source": [
    "spark.sql(\"SELECT * FROM wines WHERE name like '%BLANC%' LIMIT 10;\").show()"
   ]
  },
  {
   "cell_type": "code",
   "execution_count": 60,
   "id": "b467c587",
   "metadata": {},
   "outputs": [
    {
     "data": {
      "text/plain": [
       "DataFrame[]"
      ]
     },
     "execution_count": 60,
     "metadata": {},
     "output_type": "execute_result"
    }
   ],
   "source": [
    "OUTPUT_DELTA_PATH = './tmp/delta/'\n",
    "\n",
    "spark.sql('CREATE DATABASE IF NOT EXISTS WINES')\n",
    "\n",
    "spark.sql('''\n",
    "    CREATE TABLE IF NOT EXISTS WINES.PURPLE_PIG(\n",
    "        origin string\n",
    "        , section string\n",
    "        , name string\n",
    "        , description string\n",
    "        , extra string\n",
    "        , date date\n",
    "    ) USING DELTA\n",
    "    LOCATION \"{0}\"\n",
    "    '''.format(OUTPUT_DELTA_PATH)\n",
    ")"
   ]
  },
  {
   "cell_type": "code",
   "execution_count": 67,
   "id": "7eb0dabc",
   "metadata": {},
   "outputs": [
    {
     "name": "stdout",
     "output_type": "stream",
     "text": [
      "+--------------------+\n",
      "| split(extra,  , -1)|\n",
      "+--------------------+\n",
      "|     [$19, $45, $86]|\n",
      "|[Nose:, Full, and...|\n",
      "|    [$22, $53, $101]|\n",
      "|     [$13, $32, $61]|\n",
      "|     [$16, $39, $74]|\n",
      "|     [$15, $36, $68]|\n",
      "|     [$15, $36, $68]|\n",
      "|     [$15, $36, $68]|\n",
      "|     [$16, $39, $74]|\n",
      "|     [$14, $33, $63]|\n",
      "|     [$14, $33, $63]|\n",
      "|     [$13, $32, $61]|\n",
      "|     [$11, $27, $51]|\n",
      "|     [$14, $33, $63]|\n",
      "|     [$15, $36, $68]|\n",
      "|     [$13, $32, $61]|\n",
      "|     [$14, $33, $63]|\n",
      "|     [$15, $36, $68]|\n",
      "|     [$16, $39, $74]|\n",
      "|     [$14, $33, $63]|\n",
      "+--------------------+\n",
      "only showing top 20 rows\n",
      "\n"
     ]
    }
   ],
   "source": [
    "spark.sql('SELECT split(extra,\\' \\') FROM WINES.PURPLE_PIG').show()"
   ]
  },
  {
   "cell_type": "code",
   "execution_count": 61,
   "id": "7aa78c62",
   "metadata": {},
   "outputs": [],
   "source": [
    "load_file = spark.read.parquet('Wines.parquet')"
   ]
  },
  {
   "cell_type": "code",
   "execution_count": 62,
   "id": "f39d4b19",
   "metadata": {},
   "outputs": [],
   "source": [
    "load_file.createOrReplaceTempView('wine_load')"
   ]
  },
  {
   "cell_type": "code",
   "execution_count": 63,
   "id": "aad93858",
   "metadata": {},
   "outputs": [
    {
     "name": "stdout",
     "output_type": "stream",
     "text": [
      "+--------+\n",
      "|count(1)|\n",
      "+--------+\n",
      "|     544|\n",
      "+--------+\n",
      "\n"
     ]
    }
   ],
   "source": [
    "spark.sql(\"\"\"SELECT count(1)\n",
    "FROM WINES.PURPLE_PIG\"\"\").show()"
   ]
  },
  {
   "cell_type": "code",
   "execution_count": 43,
   "id": "df4d7026",
   "metadata": {},
   "outputs": [
    {
     "name": "stdout",
     "output_type": "stream",
     "text": [
      "+----------------------------------------+\n",
      "|hash(origin, section, name, description)|\n",
      "+----------------------------------------+\n",
      "|                              2061198233|\n",
      "|                              1527710402|\n",
      "|                              -632903228|\n",
      "|                              1261612108|\n",
      "|                                 2099280|\n",
      "|                             -2124324733|\n",
      "|                             -1568785439|\n",
      "|                             -1899088557|\n",
      "|                             -1618643588|\n",
      "|                             -1993399701|\n",
      "|                              -515037650|\n",
      "|                               -21673382|\n",
      "|                             -1172576607|\n",
      "|                               128985245|\n",
      "|                             -1285102648|\n",
      "|                              1795557171|\n",
      "|                              1636546046|\n",
      "|                               643601468|\n",
      "|                             -1081905292|\n",
      "|                              -444497963|\n",
      "+----------------------------------------+\n",
      "only showing top 20 rows\n",
      "\n"
     ]
    }
   ],
   "source": [
    "spark.sql(\"\"\"SELECT hash(origin,section, name, description)\n",
    "FROM wine_load\"\"\").show()"
   ]
  },
  {
   "cell_type": "code",
   "execution_count": 44,
   "id": "c984b3c9",
   "metadata": {},
   "outputs": [
    {
     "data": {
      "text/plain": [
       "DataFrame[]"
      ]
     },
     "execution_count": 44,
     "metadata": {},
     "output_type": "execute_result"
    }
   ],
   "source": [
    "spark.sql(\"\"\"MERGE INTO WINES.PURPLE_PIG\n",
    "USING wine_load\n",
    "   ON  hash(WINES.PURPLE_PIG.origin,WINES.PURPLE_PIG.section, WINES.PURPLE_PIG.name, WINES.PURPLE_PIG.description) = \\\n",
    "    hash(wine_load.origin,wine_load.section, wine_load.name, wine_load.description)\n",
    " WHEN NOT MATCHED THEN\n",
    " \t  INSERT (origin, section, name, description) VALUES (origin, section, name, description)\n",
    "\"\"\")"
   ]
  },
  {
   "cell_type": "code",
   "execution_count": 53,
   "id": "98aa020b",
   "metadata": {},
   "outputs": [
    {
     "name": "stdout",
     "output_type": "stream",
     "text": [
      "+-------+-----------------------+------+--------+---------+----------------------------------------------------------------------------------------------------------------------------------------------------------------------------------------------------------------------------------------------------------------------------------------+----+--------+---------+-----------+--------------+-------------+------------------------------------------------------------------------------------------------------------------------------------------------------------------------------------------------------------+------------+\n",
      "|version|timestamp              |userId|userName|operation|operationParameters                                                                                                                                                                                                                                                                     |job |notebook|clusterId|readVersion|isolationLevel|isBlindAppend|operationMetrics                                                                                                                                                                                            |userMetadata|\n",
      "+-------+-----------------------+------+--------+---------+----------------------------------------------------------------------------------------------------------------------------------------------------------------------------------------------------------------------------------------------------------------------------------------+----+--------+---------+-----------+--------------+-------------+------------------------------------------------------------------------------------------------------------------------------------------------------------------------------------------------------------+------------+\n",
      "|1      |2022-06-10 13:31:07.067|null  |null    |MERGE    |[predicate -> (hash(spark_catalog.WINES.PURPLE_PIG.`origin`, spark_catalog.WINES.PURPLE_PIG.`section`, spark_catalog.WINES.PURPLE_PIG.`name`, spark_catalog.WINES.PURPLE_PIG.`description`) = hash(wine_load.`origin`, wine_load.`section`, wine_load.`name`, wine_load.`description`))]|null|null    |null     |0          |null          |false        |[numTargetRowsCopied -> 0, numTargetRowsDeleted -> 0, numTargetFilesAdded -> 1, numTargetRowsInserted -> 0, numTargetRowsUpdated -> 0, numOutputRows -> 0, numSourceRows -> 544, numTargetFilesRemoved -> 0]|null        |\n",
      "|0      |2022-06-10 11:17:28.066|null  |null    |WRITE    |[mode -> ErrorIfExists, partitionBy -> []]                                                                                                                                                                                                                                              |null|null    |null     |null       |null          |true         |[numFiles -> 1, numOutputBytes -> 27903, numOutputRows -> 544]                                                                                                                                              |null        |\n",
      "+-------+-----------------------+------+--------+---------+----------------------------------------------------------------------------------------------------------------------------------------------------------------------------------------------------------------------------------------------------------------------------------------+----+--------+---------+-----------+--------------+-------------+------------------------------------------------------------------------------------------------------------------------------------------------------------------------------------------------------------+------------+\n",
      "\n"
     ]
    }
   ],
   "source": [
    "from delta.tables import *\n",
    "\n",
    "deltaTable = DeltaTable.forPath(spark, './tmp/delta')\n",
    "\n",
    "fullHistoryDF = deltaTable.history() \n",
    "\n",
    "fullHistoryDF.show(truncate=False)"
   ]
  },
  {
   "cell_type": "code",
   "execution_count": 58,
   "id": "35957f2e",
   "metadata": {},
   "outputs": [
    {
     "data": {
      "text/plain": [
       "[Table(name='wines', database='default', description=None, tableType='EXTERNAL', isTemporary=False),\n",
       " Table(name='load_worked_hours', database=None, description=None, tableType='TEMPORARY', isTemporary=True),\n",
       " Table(name='wine_load', database=None, description=None, tableType='TEMPORARY', isTemporary=True)]"
      ]
     },
     "metadata": {},
     "output_type": "display_data"
    }
   ],
   "source": [
    "display(spark.catalog.listTables(\"default\"))"
   ]
  },
  {
   "cell_type": "code",
   "execution_count": 59,
   "id": "e0eea478",
   "metadata": {},
   "outputs": [
    {
     "data": {
      "text/plain": [
       "[Database(name='default', description='default database', locationUri='file:/home/gary/WebScrapingIntoDelta/spark-warehouse'),\n",
       " Database(name='wines', description='', locationUri='file:/home/gary/WebScrapingIntoDelta/spark-warehouse/wines.db')]"
      ]
     },
     "execution_count": 59,
     "metadata": {},
     "output_type": "execute_result"
    }
   ],
   "source": [
    "spark.catalog.listDatabases()"
   ]
  },
  {
   "cell_type": "code",
   "execution_count": 71,
   "id": "c48183eb",
   "metadata": {},
   "outputs": [
    {
     "data": {
      "text/plain": [
       "'06/10/2022'"
      ]
     },
     "execution_count": 71,
     "metadata": {},
     "output_type": "execute_result"
    }
   ],
   "source": []
  }
 ],
 "metadata": {
  "interpreter": {
   "hash": "31f2aee4e71d21fbe5cf8b01ff0e069b9275f58929596ceb00d14d90e3e16cd6"
  },
  "kernelspec": {
   "display_name": "Python 3.8.10 64-bit",
   "language": "python",
   "name": "python3"
  },
  "language_info": {
   "codemirror_mode": {
    "name": "ipython",
    "version": 3
   },
   "file_extension": ".py",
   "mimetype": "text/x-python",
   "name": "python",
   "nbconvert_exporter": "python",
   "pygments_lexer": "ipython3",
   "version": "3.8.10"
  }
 },
 "nbformat": 4,
 "nbformat_minor": 5
}
